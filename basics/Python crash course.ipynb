{
 "cells": [
  {
   "cell_type": "markdown",
   "metadata": {},
   "source": [
    "# Basics\n",
    "## Notebook\n",
    "Questo è un Notebook! Troverete del testo con delle spiegazioni e del codice che potete modificare ed eseguire. Ad esempio, qui sotto c'è scritto un numero. Selezionando il blocco e schiacciando il tasto run, Python capirà che avete scritto un numero (e lo scriverà in una riga sottostante). Provate ad editare il testo e a dire a Python un altro numero."
   ]
  },
  {
   "cell_type": "code",
   "execution_count": null,
   "metadata": {},
   "outputs": [],
   "source": [
    "234"
   ]
  },
  {
   "cell_type": "markdown",
   "metadata": {},
   "source": [
    "## Numeri\n",
    "Python knows Math! \n",
    "Con Python possiamo fare i calcoli basilari:\n",
    "* addizione (2 + 5)\n",
    "* sottrazione (7 - 4)\n",
    "* moltiplicazione (6 * 7)\n",
    "* divisione (60 / 27)\n",
    "* divisione intera (60 // 27)\n",
    "* potenza (2 ** 10)\n",
    "* modulo (resto divisione: 5 % 2 = 1, 4 % 2 = 0)\n",
    "\n",
    "Prova qui sotto ad effettuare diversi calcoli. Quanto fa 17828001 / 5674829 ?"
   ]
  },
  {
   "cell_type": "code",
   "execution_count": null,
   "metadata": {},
   "outputs": [],
   "source": [
    "123 / 2 * 5 / 7 + 5"
   ]
  },
  {
   "cell_type": "markdown",
   "metadata": {},
   "source": [
    "## Stringhe\n",
    "Le stringhe sono sequenze di caratteri. Python sa che sono stringhe perché iniziano e finiscono sempre o con un single quote (') o con un double quote (\"). Qui sotto è definita una stringa."
   ]
  },
  {
   "cell_type": "code",
   "execution_count": null,
   "metadata": {},
   "outputs": [],
   "source": [
    "\"Ciao! Sono una stringa\""
   ]
  },
  {
   "cell_type": "markdown",
   "metadata": {},
   "source": [
    "Alcune operazioni che si possono eseguire sulle stringhe:\n",
    "* concatenazione (\"una_stringa\" + \"un_altra_stringa\")"
   ]
  },
  {
   "cell_type": "code",
   "execution_count": null,
   "metadata": {},
   "outputs": [],
   "source": [
    "\"Ciao!\" + \" Sono una stringa\""
   ]
  },
  {
   "cell_type": "markdown",
   "metadata": {},
   "source": [
    "* ripetizione della stessa stringa (\"stringa\" * numero_di_ripetizioni)"
   ]
  },
  {
   "cell_type": "code",
   "execution_count": null,
   "metadata": {},
   "outputs": [],
   "source": [
    "\"Hello\" * 7"
   ]
  },
  {
   "cell_type": "markdown",
   "metadata": {},
   "source": [
    "* trasformare una stringa in maiuscolo (\"stringa\".upper()) o in minuscolo (\"stringa\".lower())"
   ]
  },
  {
   "cell_type": "code",
   "execution_count": null,
   "metadata": {},
   "outputs": [],
   "source": [
    "\"Un po' MAIUSCOLO un PO' miNuSColo\".upper()"
   ]
  },
  {
   "cell_type": "markdown",
   "metadata": {},
   "source": [
    "* sapere quanto è lunga una stringa (len(\"stringa\"))"
   ]
  },
  {
   "cell_type": "code",
   "execution_count": null,
   "metadata": {},
   "outputs": [],
   "source": [
    "len(\"supercalifragilistichespiralidoso\")"
   ]
  },
  {
   "cell_type": "markdown",
   "metadata": {},
   "source": [
    "* sostituire un pezzo di stringa con un altro (\"stringa\".replace(\"da_sostituire\", \"nuova_stringa\"))"
   ]
  },
  {
   "cell_type": "code",
   "execution_count": null,
   "metadata": {},
   "outputs": [],
   "source": [
    "\"sto imparando Python\".replace(\"sto\", \"stiamo\")"
   ]
  },
  {
   "cell_type": "markdown",
   "metadata": {},
   "source": [
    "## Variabili\n",
    "Supponete di dover scrivere una stringa con il vostro nome ripetuto:\n"
   ]
  },
  {
   "cell_type": "code",
   "execution_count": null,
   "metadata": {},
   "outputs": [],
   "source": [
    "\"Pamela ha dormito, Pamela ha lavorato, Pamela ha letto, Pamela ha mangiato, Pamela ha scritto tanto Python.\""
   ]
  },
  {
   "cell_type": "markdown",
   "metadata": {},
   "source": [
    "Però voi non vi chiamate Pamela! Se dovessimo cambiare nome, dovremmo cambiarlo in 6 posti diversi. Questo è un esempio banale, ma in programmi complessi dover cambiare a mano tanti valori è difficile da gestire.\n",
    "Ci vengono in aiuto le variabili. Le variabili sono dei contenitori per numeri, stringhe (o oggetti come vedremo tra poco), che memorizzano un valore per poterlo utilizzare in un secondo momento. Le variabili vengono utilizzate per memorizzare dati e per rendere il codice più leggibile.\n",
    "Per dichiarare una variabile si usa: nome_variabile = intero o stringa o oggetto"
   ]
  },
  {
   "cell_type": "code",
   "execution_count": null,
   "metadata": {},
   "outputs": [],
   "source": [
    "un_numero = 7"
   ]
  },
  {
   "cell_type": "code",
   "execution_count": null,
   "metadata": {},
   "outputs": [],
   "source": [
    "una_stringa = \"Una stringa\""
   ]
  },
  {
   "cell_type": "markdown",
   "metadata": {},
   "source": [
    "Per richiamare la variabile in un secondo momento, basta utilizzarne il nome. Con una variabile, il nostro esempio di prima diventa:"
   ]
  },
  {
   "cell_type": "code",
   "execution_count": null,
   "metadata": {},
   "outputs": [],
   "source": [
    "nome = \"Pamela\"\n",
    "nome + \" ha dormito, \" + nome + \" ha lavorato, \" + nome + \" ha letto, \" + nome + \" ha mangiato, \" + nome + \" ha scritto tanto Python.\""
   ]
  },
  {
   "cell_type": "markdown",
   "metadata": {},
   "source": [
    "Con le variabili si possono utilizzare tutte le operazioni che abbiamo visto nella sezione precedente:"
   ]
  },
  {
   "cell_type": "code",
   "execution_count": null,
   "metadata": {},
   "outputs": [],
   "source": [
    "x = 7\n",
    "y = 6\n",
    "x * y"
   ]
  },
  {
   "cell_type": "code",
   "execution_count": null,
   "metadata": {},
   "outputs": [],
   "source": [
    "stringa_in_minuscolo = \"una stringa in minuscolo\"\n",
    "stringa_in_maiuscolo = stringa_in_minuscolo.upper()\n",
    "stringa_in_maiuscolo"
   ]
  },
  {
   "cell_type": "markdown",
   "metadata": {},
   "source": [
    "## Print\n",
    "Tutto quello che abbiamo appena fatto scrive come output il risultato dell'ultima operazione che abbiamo fatto. È possibile però far scrivere a Python una riga che dia una descrizione più accurata utilizzando il comando print:"
   ]
  },
  {
   "cell_type": "code",
   "execution_count": null,
   "metadata": {},
   "outputs": [],
   "source": [
    "print(\"Un messaggio che spiega cosa stiamo facendo\")"
   ]
  },
  {
   "cell_type": "markdown",
   "metadata": {},
   "source": [
    "print ci permette di combinare variabili numeriche e non, di aggiungere queste descrizioni ovunque e di non avere l'output solo dell'ultimo comando che abbiamo lanciato. La f davanti alla stringa negli esempi che seguono indica a Python che deve sostituire la variabile tra graffe con il suo valore."
   ]
  },
  {
   "cell_type": "code",
   "execution_count": null,
   "metadata": {
    "scrolled": true
   },
   "outputs": [],
   "source": [
    "x = 7\n",
    "y = 6\n",
    "print(f\"Moltiplicando {x} * {y} ottengo {x * y}\")\n",
    "linguaggio = \"Python\"\n",
    "print(f\"Stiamo imparando {linguaggio}\")"
   ]
  },
  {
   "cell_type": "markdown",
   "metadata": {},
   "source": [
    "## Liste\n",
    "Oltre ai tipi che abbiamo visto sopra, Python definisce anche degli oggetti. Partiamo dalle liste. Le liste sono contenitori per altri oggetti. Qui sotto stiamo dichiarando una lista con due numeri interi e due stringhe."
   ]
  },
  {
   "cell_type": "code",
   "execution_count": null,
   "metadata": {},
   "outputs": [],
   "source": [
    "[1, 2, \"tre\", \"quattro\"]"
   ]
  },
  {
   "cell_type": "markdown",
   "metadata": {},
   "source": [
    "Con le liste possiamo fare diverse cose:\n",
    "* calcolare il numero di elementi nella lista: len(lista)\n",
    "* ordinare gli elementi della lista: lista.sort()\n",
    "* aggiungere elementi alla lista: lista.append(nuovo_elemento)\n",
    "* concatenare più liste: lista1 + lista2\n",
    "* accedere ad uno specifico elemento della lista: lista(numero_elemento_nella_lista - 1)"
   ]
  },
  {
   "cell_type": "code",
   "execution_count": null,
   "metadata": {},
   "outputs": [],
   "source": [
    "lista = [1, 2, 3, 4]\n",
    "len(lista)"
   ]
  },
  {
   "cell_type": "code",
   "execution_count": null,
   "metadata": {},
   "outputs": [],
   "source": [
    "lista = [6, 3, 8, 3, 1]\n",
    "lista.sort()\n",
    "lista"
   ]
  },
  {
   "cell_type": "code",
   "execution_count": null,
   "metadata": {},
   "outputs": [],
   "source": [
    "lista = [3, 9, 5, 1, 9]\n",
    "lista.append(7)\n",
    "lista"
   ]
  },
  {
   "cell_type": "code",
   "execution_count": null,
   "metadata": {},
   "outputs": [],
   "source": [
    "lista1 = [1, 2, 3]\n",
    "lista2 = [4, 5, 6]\n",
    "lista1 + lista2"
   ]
  },
  {
   "cell_type": "code",
   "execution_count": null,
   "metadata": {},
   "outputs": [],
   "source": [
    "lista = [1, 2, 3, 4, 5]\n",
    "lista[2]"
   ]
  },
  {
   "cell_type": "markdown",
   "metadata": {},
   "source": [
    "È possibile modificare un elemento all'interno di una lista"
   ]
  },
  {
   "cell_type": "code",
   "execution_count": null,
   "metadata": {},
   "outputs": [],
   "source": [
    "lista = [1, 2, 3, 4]\n",
    "lista[2] = 5\n",
    "lista"
   ]
  },
  {
   "cell_type": "markdown",
   "metadata": {},
   "source": [
    "## Dizionari\n",
    "I dizionari sono degli oggetti in cui gli elementi sono memorizzati come coppie chiave/valore: ad ogni chiave corrisponde il proprio valore.\n",
    "Per accedere agli elementi del dizionario non si usano indici come per le liste, ma si accede direttamente tramite il nome della chiave:"
   ]
  },
  {
   "cell_type": "code",
   "execution_count": null,
   "metadata": {},
   "outputs": [],
   "source": [
    "scheda = {\n",
    "    \"nome\": \"Pamela\",\n",
    "    \"nazione\": \"Italia\",\n",
    "    \"linguaggi_di_programmazione\": [\"Python\", \"Scala\"],\n",
    "    \"numero_gatti\": 0\n",
    "}\n",
    "print(f'Per ottenere il valore della chiave \"nome\", basta utilizzare scheda[\"nome\"]: {scheda[\"nome\"]}')"
   ]
  },
  {
   "cell_type": "markdown",
   "metadata": {},
   "source": [
    "## Espressioni condizionali\n",
    "Le espressioni condizionali vengono utilizzate ogni volta che, in base al valore di una o più variabili, si devono effettuare operazioni differenti. La struttura è del tipo:\n",
    "\n",
    "if condizione:\n",
    "\n",
    "  operazioni da fare solo se la condizione è soddisfatta\n",
    "  \n",
    "elif un'altra condizione:\n",
    "\n",
    "  operazioni da fare solo se l'altra condizione è soddisfatta\n",
    "  \n",
    "else:\n",
    "\n",
    "  operazioni da fare se nessuna delle condizioni definite sopra è soddisfatta\n",
    "  \n",
    "\n",
    "Le condizioni possono essere:\n",
    "* a > b\n",
    "* a < b\n",
    "* a == b (notare il doppio uguale per l'uguaglianza!)\n",
    "* a != b (diverso)\n",
    "* a >= b\n",
    "* a <= b\n",
    "* elemento in lista\n",
    "\n",
    "Ad esempio, il seguente codice stampa una scritta diversa in base alla lunghezza della variabile (provate a cambiare il nome della variabile e vedrete che cambierà l'output):"
   ]
  },
  {
   "cell_type": "code",
   "execution_count": null,
   "metadata": {},
   "outputs": [],
   "source": [
    "nome = \"Hermione\"\n",
    "if len(nome) >= 8:\n",
    "    print(\"Il nome è lungo\")\n",
    "else:\n",
    "    print(\"Il nome è corto\")"
   ]
  },
  {
   "cell_type": "markdown",
   "metadata": {},
   "source": [
    "Questo codice invece stampa la presenza o meno di un elemento in una lista:"
   ]
  },
  {
   "cell_type": "code",
   "execution_count": null,
   "metadata": {},
   "outputs": [],
   "source": [
    "elemento = 7\n",
    "lista = [2, 4, 6, 8, 10]\n",
    "if elemento in lista:\n",
    "    print('Elemento trovato!')\n",
    "else:\n",
    "    print('Elemento non trovato!')"
   ]
  },
  {
   "cell_type": "markdown",
   "metadata": {},
   "source": [
    "Esercizio: provate a scrivere un piccolo programma che prenda il minimo tra 3 numeri:"
   ]
  },
  {
   "cell_type": "code",
   "execution_count": null,
   "metadata": {},
   "outputs": [],
   "source": [
    "a = 6\n",
    "b = 4\n",
    "c = 24\n",
    "\n",
    "..."
   ]
  },
  {
   "cell_type": "markdown",
   "metadata": {},
   "source": [
    "Più condizioni possono essere unite con and e or, oppure negate con un not:\n",
    "* condizione1 and condizione2 indica che entrambe le condizioni devono essere soddisfatte\n",
    "* condizione1 or condizione2 indica che una sola delle condizioni deve essere soddisfatta\n",
    "* not condizione indica che la condizione non deve essere soddisfatta"
   ]
  },
  {
   "cell_type": "code",
   "execution_count": null,
   "metadata": {},
   "outputs": [],
   "source": [
    "nome = \"Alessandro Magno\"\n",
    "if len(nome) >= 10:\n",
    "    print(f\"{nome} è lunghissimo\")\n",
    "elif len(nome) >= 8 and len(nome) < 10:\n",
    "    print(f\"{nome} è lungo\")\n",
    "else:\n",
    "    print(f\"{nome} è corto\")\n",
    "    \n",
    "if len(nome) < 8 or len(nome) > 10:\n",
    "    print(f\"{nome} è corto o lunghissimo\")\n",
    "else:\n",
    "    print(f\"{nome} è lungo\")\n",
    "    \n",
    "if not len(nome) < 8:\n",
    "    print(f\"{nome} è lungo\")\n",
    "else:\n",
    "    print(f\"{nome} è corto\")"
   ]
  },
  {
   "cell_type": "markdown",
   "metadata": {},
   "source": [
    "Una nota sull'uguaglianza di stringhe. Due stringhe sono considerate uguali se hanno gli stessi caratteri. \"una stringa\" è diversa da \"Una stringa\". Per controllare l'uguaglianza indipendentemente dalle lettere maiuscole o minuscole si possono applicare i metodi visti precedentemente .lower() o .upper(). Puoi modificare il codice qui sotto in modo che l'if consideri le due stringhe uguali?"
   ]
  },
  {
   "cell_type": "code",
   "execution_count": null,
   "metadata": {},
   "outputs": [],
   "source": [
    "stringa1 = \"una stringa\"\n",
    "stringa2 = \"Una stringa\"\n",
    "\n",
    "if stringa1 != stringa2:\n",
    "    print(\"Le due stringhe sono diverse\")\n",
    "else:\n",
    "    print(\"Le due stringhe sono uguali\")"
   ]
  },
  {
   "cell_type": "markdown",
   "metadata": {},
   "source": [
    "## Cicli\n",
    "Vi ricordate le liste di poco fa? Cosa succederebbe se avessimo una lista e ne volessimo un'altra in cui ogni elemento viene moltiplicato per 2?"
   ]
  },
  {
   "cell_type": "code",
   "execution_count": null,
   "metadata": {},
   "outputs": [],
   "source": [
    "[1, 2, 3, 4]\n",
    "moltiplicatore = 2\n",
    "[1 * moltiplicatore, 2  * moltiplicatore, 3 * moltiplicatore, 4 * moltiplicatore]"
   ]
  },
  {
   "cell_type": "markdown",
   "metadata": {},
   "source": [
    "Questa lista aveva solo 4 elementi. Ma se la lista avesse avuto 10, 100, 1000 elementi? Possiamo usare il ciclo for per operare su tutti gli elementi della lista senza ripeterci! "
   ]
  },
  {
   "cell_type": "code",
   "execution_count": null,
   "metadata": {},
   "outputs": [],
   "source": [
    "l = range(0, 50) # Questa è una scorciatoia per evitare di scrivere a mano tutti i numeri da 0 a 49!\n",
    "output = []\n",
    "for n in l:\n",
    "    output.append(n * 2)\n",
    "output"
   ]
  },
  {
   "cell_type": "markdown",
   "metadata": {},
   "source": [
    "Analogamente, si possono scrivere dei cicli anche sui dizionari:"
   ]
  },
  {
   "cell_type": "code",
   "execution_count": null,
   "metadata": {},
   "outputs": [],
   "source": [
    "scheda = {\n",
    "    \"nome\": \"Pamela\",\n",
    "    \"nazione\": \"Italia\",\n",
    "    \"show_preferito\": \"Game of thrones\",\n",
    "    \"universita\": \"Politecnico di Milano\"\n",
    "}\n",
    "for chiave, valore in scheda.items():\n",
    "    print(f\"{chiave}: {valore}\")"
   ]
  },
  {
   "cell_type": "markdown",
   "metadata": {},
   "source": [
    "In caso di liste, il ciclo for può essere scritto in modo più compatto utilizzando quelle che vengono chiamate for comprehension:"
   ]
  },
  {
   "cell_type": "code",
   "execution_count": null,
   "metadata": {},
   "outputs": [],
   "source": [
    "[i * 2 for i in range(0, 50)]"
   ]
  },
  {
   "cell_type": "markdown",
   "metadata": {},
   "source": [
    "Il codice nella linea precedente è una for comprehension, ed ha lo stesso significato del ciclo che abbiamo scritto poco fa per moltiplicare per 2 tutti i numeri da 1 a 49. È possibile anche mettere più cicli for uno dentro l'altro, oppure utilizzare delle condizioni per includere solo valori che soddisfano una certa condizione. Cosa fanno le seguenti linee di codice?"
   ]
  },
  {
   "cell_type": "code",
   "execution_count": null,
   "metadata": {},
   "outputs": [],
   "source": [
    "[f'{i}{j}' for i in ['a', 'b', 'c', 'd'] for j in ['e', 'f', 'g', 'h']]"
   ]
  },
  {
   "cell_type": "code",
   "execution_count": null,
   "metadata": {},
   "outputs": [],
   "source": [
    "[i for i in range(0, 10) if i % 2 == 0]"
   ]
  },
  {
   "cell_type": "markdown",
   "metadata": {},
   "source": [
    "## Funzioni\n",
    "Le funzioni vengono utilizzate per raggruppare del codice in modo logico, così da evitare il copia/incolla e poterlo riutilizzare facilmente."
   ]
  },
  {
   "cell_type": "code",
   "execution_count": null,
   "metadata": {},
   "outputs": [],
   "source": [
    "def saluta(nome):\n",
    "    nome_in_maiuscolo = nome.upper()\n",
    "    aggiunta_saluto = f\"Ciao {nome_in_maiuscolo}\"\n",
    "    return aggiunta_saluto\n",
    "\n",
    "print(saluta(\"Python\"))\n",
    "print(saluta(\"Harry Potter\"))\n",
    "print(saluta(\"Daenerys Targaryan\"))\n",
    "    "
   ]
  },
  {
   "cell_type": "markdown",
   "metadata": {},
   "source": [
    "Le funzioni a loro volta possono essere raggruppate in più moduli. Per poter utilizzare funzioni o oggetti che non fanno parte del programma che stiamo scrivendo, dobbiamo importare il modulo che le racchiude, e a quel punto le funzioni e gli oggetti sono disponibili per l'utilizzo.\n",
    "Esistono delle librerie standard di Python, ad esempio datetime. Importando datetime abbiamo a disposizione tutta una serie di funzioni per la manipolazione di date: di seguito andiamo ad importare l'oggetto date dalla libreria datetime. Una volta importata, possiamo chiamare metodi dell'oggetto date."
   ]
  },
  {
   "cell_type": "code",
   "execution_count": null,
   "metadata": {},
   "outputs": [],
   "source": [
    "from datetime import date\n",
    "\n",
    "date.today()"
   ]
  },
  {
   "cell_type": "markdown",
   "metadata": {},
   "source": [
    "Un'altra libreria standard utile è math. Come dal nome, math espone funzioni matematiche, oltre ai concetti di infinito e di NaN (not a number).\n",
    "\"import math\" significa che stiamo importando tutta la libreria math, e che potremo accedere a tutte le sue funzioni tramite la notazione \"math.nome_funzione()\""
   ]
  },
  {
   "cell_type": "code",
   "execution_count": null,
   "metadata": {},
   "outputs": [],
   "source": [
    "import math\n",
    "\n",
    "a = - math.inf\n",
    "b = math.inf\n",
    "c = math.nan\n",
    "d = math.pow(2, 10)\n",
    "print(f\"a: {a}, b: {b}, c: {c}, d: {d}, e: {e}\")"
   ]
  },
  {
   "cell_type": "markdown",
   "metadata": {},
   "source": [
    "## NumPy\n",
    "NumPy è la libreria core per effettuare calcolo scientifico in Python. Dà accesso ad array multidimensionali performanti e tools per lavorare con questi array.\n",
    "Le linee che seguono importano numpy con una sintassi leggermente diversa da quella appena vista.\n",
    "\"import numpy as np\" importa tutta NumPy dandole però un alias, in modo da poter chiamare tutte le funzioni come \"np.array\", \"np.zeroes\", etc. "
   ]
  },
  {
   "cell_type": "code",
   "execution_count": null,
   "metadata": {},
   "outputs": [],
   "source": [
    "import numpy as np\n",
    "\n",
    "a = np.array([1, 2, 3])\n",
    "print(f\"a = {a}\")\n",
    "b = b = np.array([(1.5,2,3), (4,5,6)])\n",
    "print(f\"b = {b}\")\n",
    "c = np.random.random((2, 3))\n",
    "print(f\"c = {c}\")\n",
    "print(f\"b + c = {b + c}\")\n",
    "print(f\"b trasposto = {b.transpose()}\")\n",
    "print(f\"Seconda colonna di b = {b[:, 1]}\")\n",
    "print(f\"Pimi due elementi della prima riga di b = {b[0, 0:2]}\")\n",
    "print(f\"Elementi divisibili per due di b = {b[b % 2 == 0]}\")"
   ]
  },
  {
   "cell_type": "markdown",
   "metadata": {},
   "source": [
    "## Pandas\n",
    "Pandas è una libreria basata su NumPy e definisce delle strutture dati e tools di data analisi per Python. Uno degli oggetti esposti da Pandas sono le serie, ovvero array monodimensionali in cui gli elementi hanno una label:"
   ]
  },
  {
   "cell_type": "code",
   "execution_count": null,
   "metadata": {},
   "outputs": [],
   "source": [
    "s = pd.Series([3, -5, 7, 4], index=['a', 'b', 'c', 'd'])"
   ]
  },
  {
   "cell_type": "markdown",
   "metadata": {},
   "source": [
    "Sulle serie possono essere effettuate le operazioni standard (somme, sottrazioni, etc.). In caso ci siano dei dati mancanti e l'operazione non possa essere effettuata, la label corrispondente avrà il valore Nan:"
   ]
  },
  {
   "cell_type": "code",
   "execution_count": null,
   "metadata": {},
   "outputs": [],
   "source": [
    "s = pd.Series([3, -5, 7, 4], index=['a', 'b', 'c', 'd'])\n",
    "s1 = pd.Series([7, -2, 3], index=['a', 'c', 'd'])\n",
    "s + s1"
   ]
  },
  {
   "cell_type": "markdown",
   "metadata": {},
   "source": [
    "Con Pandas andremo anche ad utilizzare dati strutturati in un dataframe, che possiamo considerare come una tabella. Qui vedete un esempio di come si definisce un data frame e di alcune operazioni che possiamo farci su:"
   ]
  },
  {
   "cell_type": "code",
   "execution_count": null,
   "metadata": {},
   "outputs": [],
   "source": [
    "import pandas as pd\n",
    "data = {\n",
    "    'Country': ['Belgium', 'India', 'Brazil'],\n",
    "    'Capital': ['Brussels', 'New Delhi', 'Brasília'],\n",
    "    'Population': [11190846, 1303171035, 207847528]}\n",
    "df = pd.DataFrame(data, columns=['Country', 'Capital', 'Population'])\n",
    "print(df)\n",
    "print(f'Capitale e polazione del Belgio: {df.loc[[0], [\"Capital\", \"Population\"]]}')\n",
    "print(f'Capitali con popolazione più grande di 120 milioni: {df[df[\"Population\"]>1200000000]}')"
   ]
  },
  {
   "cell_type": "markdown",
   "metadata": {},
   "source": [
    "Adesso andiamo a lavorare con dei dati veri! Le linee di codice che seguono leggono da un file i 500 Le linee di codice seguenti vanno a leggere un dataframe da un file dove sono contenuti i Rolling Stone's 500 Greatest Albums of All Time. Grazie a Pandas possiamo facilmente estrarre gli album dei Beatles ordinati per anno di uscita decrescente. Oppure raggruppare per artista e anno e trovare chi ha prodotto più dischi in un anno."
   ]
  },
  {
   "cell_type": "code",
   "execution_count": null,
   "metadata": {},
   "outputs": [],
   "source": [
    "import pandas as pd\n",
    "\n",
    "music = pd.read_csv('albumlist.csv')\n",
    "print('Gli album dei Beatles ordinati per anno decrescente')\n",
    "print(music.sort_values(\"Year\", axis=0, ascending=False)[music['Artist'].isin(['The Beatles'])][['Year', 'Album']])\n",
    "print('')\n",
    "music.groupby(['Artist'], as_index=False).count().sort_values(\"Number\", ascending=False).head(10)[:][['Artist', 'Number']]"
   ]
  }
 ],
 "metadata": {
  "kernelspec": {
   "display_name": "Python 3",
   "language": "python",
   "name": "python3"
  },
  "language_info": {
   "codemirror_mode": {
    "name": "ipython",
    "version": 3
   },
   "file_extension": ".py",
   "mimetype": "text/x-python",
   "name": "python",
   "nbconvert_exporter": "python",
   "pygments_lexer": "ipython3",
   "version": "3.7.3"
  }
 },
 "nbformat": 4,
 "nbformat_minor": 2
}
