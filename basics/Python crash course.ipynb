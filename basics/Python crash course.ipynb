{
 "cells": [
  {
   "cell_type": "markdown",
   "metadata": {},
   "source": [
    "# Basics\n",
    "## Notebook\n",
    "Questo e' un Notebook! Troverete del testo con delle spiegazioni e del codice che potete modificare ed eseguire. Ad esempio, qui sotto c'e' scritto un numero. Selezionando il blocco e schiacciando il tasto run, Python capira' che avete scritto un numero (e lo scrivera' in una riga sottostante). Provate ad editare il testo e a dire a Python un altro numero."
   ]
  },
  {
   "cell_type": "code",
   "execution_count": 58,
   "metadata": {},
   "outputs": [
    {
     "data": {
      "text/plain": [
       "234"
      ]
     },
     "execution_count": 58,
     "metadata": {},
     "output_type": "execute_result"
    }
   ],
   "source": [
    "234"
   ]
  },
  {
   "cell_type": "markdown",
   "metadata": {},
   "source": [
    "## Numeri\n",
    "Python knows Math! \n",
    "Con Python possiamo fare i calcoli basilari:\n",
    "* addizione (2 + 5)\n",
    "* sottrazione (7 - 4)\n",
    "* moltiplicazione (6 * 7)\n",
    "* divisione (60 / 27)\n",
    "* divisione intera (60 // 27)\n",
    "* potenza (2 ** 10)\n",
    "Prova qui sotto ad effettuare diversi calcoli. Quanto fa 17828001 / 5674829 ?"
   ]
  },
  {
   "cell_type": "code",
   "execution_count": 59,
   "metadata": {},
   "outputs": [
    {
     "data": {
      "text/plain": [
       "48.92857142857143"
      ]
     },
     "execution_count": 59,
     "metadata": {},
     "output_type": "execute_result"
    }
   ],
   "source": [
    "123 / 2 * 5 / 7 + 5"
   ]
  },
  {
   "cell_type": "markdown",
   "metadata": {},
   "source": [
    "## Stringhe\n",
    "Le stringhe sono sequenze di caratteri. Python sa che sono stringhe perche' iniziano e finiscono sempre o con un single quote (') o con un double quote (\"). Qui sotto e' definita una stringa."
   ]
  },
  {
   "cell_type": "code",
   "execution_count": 3,
   "metadata": {},
   "outputs": [
    {
     "data": {
      "text/plain": [
       "'Ciao! Sono una stringa'"
      ]
     },
     "execution_count": 3,
     "metadata": {},
     "output_type": "execute_result"
    }
   ],
   "source": [
    "\"Ciao! Sono una stringa\""
   ]
  },
  {
   "cell_type": "markdown",
   "metadata": {},
   "source": [
    "Alcune operazioni che si possono eseguire sulle stringhe:\n",
    "* concatenazione (\"una_stringa\" + \"un_altra_stringa\")"
   ]
  },
  {
   "cell_type": "code",
   "execution_count": 9,
   "metadata": {},
   "outputs": [
    {
     "data": {
      "text/plain": [
       "'Ciao! Sono una stringa'"
      ]
     },
     "execution_count": 9,
     "metadata": {},
     "output_type": "execute_result"
    }
   ],
   "source": [
    "\"Ciao!\" + \" Sono una stringa\""
   ]
  },
  {
   "cell_type": "markdown",
   "metadata": {},
   "source": [
    "* ripetizione della stessa stringa (\"stringa\" * numero_di_ripetizioni)"
   ]
  },
  {
   "cell_type": "code",
   "execution_count": null,
   "metadata": {},
   "outputs": [],
   "source": [
    "\"Hello\" * 7"
   ]
  },
  {
   "cell_type": "markdown",
   "metadata": {},
   "source": [
    "* trasformare una stringa in maiuscolo (\"stringa\".upper()) o in minuscolo (\"stringa\".lower())"
   ]
  },
  {
   "cell_type": "code",
   "execution_count": 11,
   "metadata": {},
   "outputs": [
    {
     "data": {
      "text/plain": [
       "\"UN PO' MAIUSCOLO UN PO' MINUSCOLO\""
      ]
     },
     "execution_count": 11,
     "metadata": {},
     "output_type": "execute_result"
    }
   ],
   "source": [
    "\"Un po' MAIUSCOLO un PO' miNuSColo\".upper()"
   ]
  },
  {
   "cell_type": "markdown",
   "metadata": {},
   "source": [
    "* sapere quanto e' lunga una stringa (len(\"stringa\"))"
   ]
  },
  {
   "cell_type": "code",
   "execution_count": 12,
   "metadata": {},
   "outputs": [
    {
     "data": {
      "text/plain": [
       "33"
      ]
     },
     "execution_count": 12,
     "metadata": {},
     "output_type": "execute_result"
    }
   ],
   "source": [
    "len(\"supercalifragilistichespiralidoso\")"
   ]
  },
  {
   "cell_type": "markdown",
   "metadata": {},
   "source": [
    "* sostituire un pezzo di stringa con un altro (\"stringa\".replace(\"da_sostituire\", \"nuova_stringa\"))"
   ]
  },
  {
   "cell_type": "code",
   "execution_count": 52,
   "metadata": {},
   "outputs": [
    {
     "data": {
      "text/plain": [
       "'stiamo imparando Python'"
      ]
     },
     "execution_count": 52,
     "metadata": {},
     "output_type": "execute_result"
    }
   ],
   "source": [
    "\"sto imparando Python\".replace(\"sto\", \"stiamo\")"
   ]
  },
  {
   "cell_type": "markdown",
   "metadata": {},
   "source": [
    "## Variabili\n",
    "Supponete di dover scrivere una stringa con il vostro nome ripetuto:\n"
   ]
  },
  {
   "cell_type": "code",
   "execution_count": 19,
   "metadata": {},
   "outputs": [
    {
     "data": {
      "text/plain": [
       "'pamela'"
      ]
     },
     "execution_count": 19,
     "metadata": {},
     "output_type": "execute_result"
    }
   ],
   "source": [
    "\"Pamela ha dormito, Pamela ha lavorato, Pamela ha letto, Pamela ha mangiato, Pamela ha scritto tanto Python.\""
   ]
  },
  {
   "cell_type": "markdown",
   "metadata": {},
   "source": [
    "Pero' voi non vi chiamate Pamela! Se dovessimo cambiare nome, dovremmo cambiarlo in 6 posti diversi. Questo e' un esempio banale, ma in programmi complessi dover cambiare a mano tanti valori e' difficile da gestire.\n",
    "Ci vengono in aiuto le variabili. Le variabili sono dei contenitori per numeri, stringhe (o oggetti come vedremo tra poco), che memorizzano un valore per poterlo utilizzare in un secondo momento. Le variabili vengono utilizzate per memorizzare dati e per rendere il codice piu' leggibile.\n",
    "Per dichiarare una variabile si usa: nome_variabile = intero o stringa o oggetto"
   ]
  },
  {
   "cell_type": "code",
   "execution_count": null,
   "metadata": {},
   "outputs": [],
   "source": [
    "un_numero = 7"
   ]
  },
  {
   "cell_type": "code",
   "execution_count": null,
   "metadata": {},
   "outputs": [],
   "source": [
    "una_stringa = \"Una stringa\""
   ]
  },
  {
   "cell_type": "markdown",
   "metadata": {},
   "source": [
    "Per richiamare la variabile in un secondo momento, basta utilizzarne il nome. Con una variabile, il nostro esempio di prima diventa:"
   ]
  },
  {
   "cell_type": "code",
   "execution_count": 60,
   "metadata": {},
   "outputs": [
    {
     "data": {
      "text/plain": [
       "'Andrea ha dormito, Andrea ha lavorato, Andrea ha letto, Andrea ha mangiato, Andrea ha scritto tanto Python.'"
      ]
     },
     "execution_count": 60,
     "metadata": {},
     "output_type": "execute_result"
    }
   ],
   "source": [
    "nome = \"Pamela\"\n",
    "nome + \" ha dormito, \" + nome + \" ha lavorato, \" + nome + \" ha letto, \" + nome + \" ha mangiato, \" + nome + \" ha scritto tanto Python.\""
   ]
  },
  {
   "cell_type": "markdown",
   "metadata": {},
   "source": [
    "Con le variabili si possono utilizzare tutte le operazioni che abbiamo visto nella sezione precedente:"
   ]
  },
  {
   "cell_type": "code",
   "execution_count": 21,
   "metadata": {},
   "outputs": [
    {
     "data": {
      "text/plain": [
       "42"
      ]
     },
     "execution_count": 21,
     "metadata": {},
     "output_type": "execute_result"
    }
   ],
   "source": [
    "x = 7\n",
    "y = 6\n",
    "x * y"
   ]
  },
  {
   "cell_type": "code",
   "execution_count": 22,
   "metadata": {},
   "outputs": [
    {
     "data": {
      "text/plain": [
       "'UNA STRINGA IN MINUSCOLO'"
      ]
     },
     "execution_count": 22,
     "metadata": {},
     "output_type": "execute_result"
    }
   ],
   "source": [
    "stringa_in_minuscolo = \"una stringa in minuscolo\"\n",
    "stringa_in_maiuscolo = stringa_in_minuscolo.upper()\n",
    "stringa_in_maiuscolo"
   ]
  },
  {
   "cell_type": "markdown",
   "metadata": {},
   "source": [
    "## Print\n",
    "Tutto quello che abbiamo appena fatto scrive come output il risultato dell'ultima operazione che abbiamo fatto. E' possibile pero' far scrivere a Python una riga che dia una descrizione piu' accurata utilizzando il comando print:"
   ]
  },
  {
   "cell_type": "code",
   "execution_count": null,
   "metadata": {},
   "outputs": [],
   "source": [
    "print(\"Un messaggio che spiega cosa stiamo facendo\")"
   ]
  },
  {
   "cell_type": "markdown",
   "metadata": {},
   "source": [
    "print ci permette di combinare variabili numeriche e non, di aggiungere queste descrizioni ovunque e di non avere l'output solo dell'ultimo comando che abbiamo lanciato. La f davanti alla stringa negli esempi che seguono indica a Python che deve sostituire la variabile tra graffe con il suo valore."
   ]
  },
  {
   "cell_type": "code",
   "execution_count": 62,
   "metadata": {
    "scrolled": true
   },
   "outputs": [
    {
     "name": "stdout",
     "output_type": "stream",
     "text": [
      "Moltiplicando 7 * 6 ottengo 42\n",
      "Stiamo imparando Python\n"
     ]
    }
   ],
   "source": [
    "x = 7\n",
    "y = 6\n",
    "print(f\"Moltiplicando {x} * {y} ottengo {x * y}\")\n",
    "linguaggio = \"Python\"\n",
    "print(f\"Stiamo imparando {linguaggio}\")"
   ]
  },
  {
   "cell_type": "markdown",
   "metadata": {},
   "source": [
    "## Liste\n",
    "Oltre ai tipi che abbiamo visto sopra, Python definisce anche degli oggetti. Partiamo dalle liste. Le liste sono contenitori per altri oggetti. Qui sotto stiamo dichiarando una lista con due numeri interi e due stringhe."
   ]
  },
  {
   "cell_type": "code",
   "execution_count": 63,
   "metadata": {},
   "outputs": [
    {
     "data": {
      "text/plain": [
       "[1, 2, 'tre', 'quattro']"
      ]
     },
     "execution_count": 63,
     "metadata": {},
     "output_type": "execute_result"
    }
   ],
   "source": [
    "[1, 2, \"tre\", \"quattro\"]"
   ]
  },
  {
   "cell_type": "markdown",
   "metadata": {},
   "source": [
    "Con le liste possiamo fare diverse cose:\n",
    "* calcolare il numero di elementi nella lista: len(lista)\n",
    "* ordinare gli elementi della lista: lista.sort()\n",
    "* aggiungere elementi alla lista: lista.append(nuovo_elemento)\n",
    "* concatenare piu' liste: lista1 + lista2\n",
    "* accedere ad uno specifico elemento della lista: lista(numero_elemento_nella_lista - 1)"
   ]
  },
  {
   "cell_type": "code",
   "execution_count": 30,
   "metadata": {},
   "outputs": [
    {
     "data": {
      "text/plain": [
       "4"
      ]
     },
     "execution_count": 30,
     "metadata": {},
     "output_type": "execute_result"
    }
   ],
   "source": [
    "lista = [1, 2, 3, 4]\n",
    "len(lista)"
   ]
  },
  {
   "cell_type": "code",
   "execution_count": 32,
   "metadata": {},
   "outputs": [
    {
     "data": {
      "text/plain": [
       "[1, 3, 3, 6, 8]"
      ]
     },
     "execution_count": 32,
     "metadata": {},
     "output_type": "execute_result"
    }
   ],
   "source": [
    "lista = [6, 3, 8, 3, 1]\n",
    "lista.sort()\n",
    "lista"
   ]
  },
  {
   "cell_type": "code",
   "execution_count": 33,
   "metadata": {},
   "outputs": [
    {
     "data": {
      "text/plain": [
       "[3, 9, 5, 1, 9, 7]"
      ]
     },
     "execution_count": 33,
     "metadata": {},
     "output_type": "execute_result"
    }
   ],
   "source": [
    "lista = [3, 9, 5, 1, 9]\n",
    "lista.append(7)\n",
    "lista"
   ]
  },
  {
   "cell_type": "code",
   "execution_count": 26,
   "metadata": {},
   "outputs": [
    {
     "data": {
      "text/plain": [
       "[1, 2, 3, 4, 5, 6]"
      ]
     },
     "execution_count": 26,
     "metadata": {},
     "output_type": "execute_result"
    }
   ],
   "source": [
    "lista1 = [1, 2, 3]\n",
    "lista2 = [4, 5, 6]\n",
    "lista1 + lista2"
   ]
  },
  {
   "cell_type": "code",
   "execution_count": 24,
   "metadata": {},
   "outputs": [
    {
     "data": {
      "text/plain": [
       "3"
      ]
     },
     "execution_count": 24,
     "metadata": {},
     "output_type": "execute_result"
    }
   ],
   "source": [
    "lista = [1, 2, 3, 4, 5]\n",
    "lista[2]"
   ]
  },
  {
   "cell_type": "markdown",
   "metadata": {},
   "source": [
    "E' possibile modificare un elemento all'interno di una lista"
   ]
  },
  {
   "cell_type": "code",
   "execution_count": 53,
   "metadata": {},
   "outputs": [
    {
     "data": {
      "text/plain": [
       "[1, 2, 5, 4]"
      ]
     },
     "execution_count": 53,
     "metadata": {},
     "output_type": "execute_result"
    }
   ],
   "source": [
    "lista = [1, 2, 3, 4]\n",
    "lista[2] = 5\n",
    "lista"
   ]
  },
  {
   "cell_type": "markdown",
   "metadata": {},
   "source": [
    "## Dizionari\n",
    "I dizionari sono degli oggetti in cui gli elementi sono memorizzati come coppie chiave/valore: ad ogni chiave corrisponde il proprio valore.\n",
    "Per accedere agli elementi del dizionario non si usano indici come per le liste, ma si accede direttamente tramite il nome della chiave:"
   ]
  },
  {
   "cell_type": "code",
   "execution_count": 69,
   "metadata": {},
   "outputs": [
    {
     "name": "stdout",
     "output_type": "stream",
     "text": [
      "Per ottenere il valore della chiave \"nome\", basta utilizzare scheda[\"nome\"]: Pamela\n"
     ]
    }
   ],
   "source": [
    "scheda = {\n",
    "    \"nome\": \"Pamela\",\n",
    "    \"nazione\": \"Italia\",\n",
    "    \"linguaggi_di_programmazione\": [\"Python\", \"Scala\"],\n",
    "    \"numero_gatti\": 0\n",
    "}\n",
    "print(f'Per ottenere il valore della chiave \"nome\", basta utilizzare scheda[\"nome\"]: {scheda[\"nome\"]}')"
   ]
  },
  {
   "cell_type": "markdown",
   "metadata": {},
   "source": [
    "## Espressioni condizionali\n",
    "Le espressioni condizionali vengono utilizzate ogni volta che, in base al valore di una o piu' variabili, si devono effettuare operazioni differenti. La struttura e' del tipo:\n",
    "if condizione:\n",
    "  operazioni da fare solo se la condizione e' soddisfatta\n",
    "elif un'altra condizione:\n",
    "  operazioni da fare solo se l'altra condizione e' soddisfatta\n",
    "else:\n",
    "  operazioni da fare se nessuna delle condizioni definite sopra e' soddisfatta\n",
    "\n",
    "Le condizioni possono essere:\n",
    "* a > b\n",
    "* a < b\n",
    "* a == b (notare il doppio uguale per l'uguaglianza!)\n",
    "* a != b (diverso)\n",
    "* a >= b\n",
    "* a <= b\n",
    "* elemento in lista\n",
    "\n",
    "Ad esempio, il seguente codice stampa una scritta diversa in base alla lunghezza della variabile (provate a cambiare il nome della variabile e vedrete che cambiera' l'output):"
   ]
  },
  {
   "cell_type": "code",
   "execution_count": 47,
   "metadata": {},
   "outputs": [
    {
     "name": "stdout",
     "output_type": "stream",
     "text": [
      "Il nome e' lungo\n"
     ]
    }
   ],
   "source": [
    "nome = \"Hermione\"\n",
    "if len(nome) >= 8:\n",
    "    print(\"Il nome e' lungo\")\n",
    "else:\n",
    "    print(\"Il nome e' corto\")"
   ]
  },
  {
   "cell_type": "markdown",
   "metadata": {},
   "source": [
    "Questo codice invece stampa la presenza o meno di un elemento in una lista:"
   ]
  },
  {
   "cell_type": "code",
   "execution_count": 54,
   "metadata": {},
   "outputs": [
    {
     "name": "stdout",
     "output_type": "stream",
     "text": [
      "Elemento non in lista\n"
     ]
    }
   ],
   "source": [
    "elemento = 7\n",
    "lista = [2, 4, 6, 8, 10]\n",
    "if elemento in lista:\n",
    "    print('Elemento trovato!')\n",
    "else:\n",
    "    print('Elemento non trovato!')"
   ]
  },
  {
   "cell_type": "markdown",
   "metadata": {},
   "source": [
    "Esercizio: provate a scrivere un piccolo programma che prenda il minimo tra 3 numeri:"
   ]
  },
  {
   "cell_type": "code",
   "execution_count": null,
   "metadata": {},
   "outputs": [],
   "source": [
    "a = 6\n",
    "b = 4\n",
    "c = 24\n",
    "\n",
    "..."
   ]
  },
  {
   "cell_type": "markdown",
   "metadata": {},
   "source": [
    "Piu' condizioni possono essere unite con and e or, oppure negate con un not:\n",
    "* condizione1 and condizione2 indica che entrambe le condizioni devono essere soddisfatte\n",
    "* condizione1 or condizione2 indica che una sola delle condizioni deve essere soddisfatta\n",
    "* not condizione indica che la condizione non deve essere soddisfatta"
   ]
  },
  {
   "cell_type": "code",
   "execution_count": 70,
   "metadata": {},
   "outputs": [
    {
     "name": "stdout",
     "output_type": "stream",
     "text": [
      "Alessandro Magno e' lunghissimo\n",
      "Alessandro Magno e' corto o lunghissimo\n",
      "Alessandro Magno e' lungo\n"
     ]
    }
   ],
   "source": [
    "nome = \"Alessandro Magno\"\n",
    "if len(nome) >= 10:\n",
    "    print(f\"{nome} e' lunghissimo\")\n",
    "elif len(nome) >= 8 and len(nome) < 10:\n",
    "    print(f\"{nome} e' lungo\")\n",
    "else:\n",
    "    print(f\"{nome} e' corto\")\n",
    "    \n",
    "if len(nome) < 8 or len(nome) > 10:\n",
    "    print(f\"{nome} e' corto o lunghissimo\")\n",
    "else:\n",
    "    print(f\"{nome} e' lungo\")\n",
    "    \n",
    "if not len(nome) < 8:\n",
    "    print(f\"{nome} e' lungo\")\n",
    "else:\n",
    "    print(f\"{nome} e' corto\")"
   ]
  },
  {
   "cell_type": "markdown",
   "metadata": {},
   "source": [
    "## Cicli\n",
    "Vi ricordate le liste di poco fa? Cosa succederebbe se avessimo una lista e ne volessimo un'altra in cui ogni elemento viene moltiplicato per 2?"
   ]
  },
  {
   "cell_type": "code",
   "execution_count": 38,
   "metadata": {},
   "outputs": [
    {
     "data": {
      "text/plain": [
       "[2, 4, 6, 8]"
      ]
     },
     "execution_count": 38,
     "metadata": {},
     "output_type": "execute_result"
    }
   ],
   "source": [
    "[1, 2, 3, 4]\n",
    "moltiplicatore = 2\n",
    "[1 * moltiplicatore, 2  * moltiplicatore, 3 * moltiplicatore, 4 * moltiplicatore]"
   ]
  },
  {
   "cell_type": "markdown",
   "metadata": {},
   "source": [
    "Questa lista aveva solo 4 elementi. Ma se la lista avesse avuto 10, 100, 1000 elementi? Possiamo usare il ciclo for per operare su tutti gli elementi della lista senza ripeterci! "
   ]
  },
  {
   "cell_type": "code",
   "execution_count": 40,
   "metadata": {},
   "outputs": [
    {
     "data": {
      "text/plain": [
       "[0,\n",
       " 2,\n",
       " 4,\n",
       " 6,\n",
       " 8,\n",
       " 10,\n",
       " 12,\n",
       " 14,\n",
       " 16,\n",
       " 18,\n",
       " 20,\n",
       " 22,\n",
       " 24,\n",
       " 26,\n",
       " 28,\n",
       " 30,\n",
       " 32,\n",
       " 34,\n",
       " 36,\n",
       " 38,\n",
       " 40,\n",
       " 42,\n",
       " 44,\n",
       " 46,\n",
       " 48,\n",
       " 50,\n",
       " 52,\n",
       " 54,\n",
       " 56,\n",
       " 58,\n",
       " 60,\n",
       " 62,\n",
       " 64,\n",
       " 66,\n",
       " 68,\n",
       " 70,\n",
       " 72,\n",
       " 74,\n",
       " 76,\n",
       " 78,\n",
       " 80,\n",
       " 82,\n",
       " 84,\n",
       " 86,\n",
       " 88,\n",
       " 90,\n",
       " 92,\n",
       " 94,\n",
       " 96,\n",
       " 98]"
      ]
     },
     "execution_count": 40,
     "metadata": {},
     "output_type": "execute_result"
    }
   ],
   "source": [
    "l = range(0, 50) # Questa e' una scorciatoia per evitare di scrivere a mano tutti i numeri da 0 a 49!\n",
    "output = []\n",
    "for n in l:\n",
    "    output.append(n * 2)\n",
    "output"
   ]
  },
  {
   "cell_type": "markdown",
   "metadata": {},
   "source": [
    "Analogamente, si possono scrivere dei cicli anche sui dizionari:"
   ]
  },
  {
   "cell_type": "code",
   "execution_count": 48,
   "metadata": {},
   "outputs": [
    {
     "name": "stdout",
     "output_type": "stream",
     "text": [
      "nome: Pamela\n",
      "nazione: Italia\n",
      "show_preferito: Game of thrones\n",
      "universita: Politecnico di Milano\n"
     ]
    }
   ],
   "source": [
    "scheda = {\n",
    "    \"nome\": \"Pamela\",\n",
    "    \"nazione\": \"Italia\",\n",
    "    \"show_preferito\": \"Game of thrones\",\n",
    "    \"universita\": \"Politecnico di Milano\"\n",
    "}\n",
    "for chiave, valore in scheda.items():\n",
    "    print(f\"{chiave}: {valore}\")"
   ]
  },
  {
   "cell_type": "markdown",
   "metadata": {},
   "source": [
    "## Funzioni\n",
    "Le funzioni vengono utilizzate per raggruppare del codice in modo logico, cosi' da evitare il copia/incolla e poterlo riutilizzare facilmente."
   ]
  },
  {
   "cell_type": "code",
   "execution_count": 57,
   "metadata": {},
   "outputs": [
    {
     "name": "stdout",
     "output_type": "stream",
     "text": [
      "Ciao PYTHON\n",
      "Ciao HERRY POTTER\n",
      "Ciao DAENERYS TARGARYAN\n"
     ]
    }
   ],
   "source": [
    "def saluta(nome):\n",
    "    nome_in_maiuscolo = nome.upper()\n",
    "    aggiunta_saluto = f\"Ciao {nome_in_maiuscolo}\"\n",
    "    return aggiunta_saluto\n",
    "\n",
    "print(saluta(\"Python\"))\n",
    "print(saluta(\"Harry Potter\"))\n",
    "print(saluta(\"Daenerys Targaryan\"))\n",
    "    "
   ]
  },
  {
   "cell_type": "markdown",
   "metadata": {},
   "source": [
    "Da aggiungere: moduli, pandas"
   ]
  }
 ],
 "metadata": {
  "kernelspec": {
   "display_name": "Python 3",
   "language": "python",
   "name": "python3"
  },
  "language_info": {
   "codemirror_mode": {
    "name": "ipython",
    "version": 3
   },
   "file_extension": ".py",
   "mimetype": "text/x-python",
   "name": "python",
   "nbconvert_exporter": "python",
   "pygments_lexer": "ipython3",
   "version": "3.7.3"
  }
 },
 "nbformat": 4,
 "nbformat_minor": 2
}
