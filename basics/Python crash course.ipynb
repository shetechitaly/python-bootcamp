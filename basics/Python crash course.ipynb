{
 "cells": [
  {
   "cell_type": "markdown",
   "metadata": {},
   "source": [
    "# Basics\n",
    "## Notebook\n",
    "Questo e' un Notebook! Troverete del testo con delle spiegazioni e del codice che potete modificare ed eseguire. Ad esempio, qui sotto c'e' scritto un numero. Selezionando il blocco e schiacciando il tasto run, Python capira' che avete scritto un numero (e lo scrivera' in una riga sottostante). Provate ad editare il testo e a dire a Python un altro numero."
   ]
  },
  {
   "cell_type": "code",
   "execution_count": 58,
   "metadata": {},
   "outputs": [
    {
     "data": {
      "text/plain": [
       "234"
      ]
     },
     "execution_count": 58,
     "metadata": {},
     "output_type": "execute_result"
    }
   ],
   "source": [
    "234"
   ]
  },
  {
   "cell_type": "markdown",
   "metadata": {},
   "source": [
    "## Numeri\n",
    "Python knows Math! \n",
    "Con Python possiamo fare i calcoli basilari:\n",
    "* addizione (2 + 5)\n",
    "* sottrazione (7 - 4)\n",
    "* moltiplicazione (6 * 7)\n",
    "* divisione (60 / 27)\n",
    "* divisione intera (60 // 27)\n",
    "* potenza (2 ** 10)\n",
    "* modulo (resto divisione: 5 % 2 = 1, 4 % 2 = 0)\n",
    "\n",
    "Prova qui sotto ad effettuare diversi calcoli. Quanto fa 17828001 / 5674829 ?"
   ]
  },
  {
   "cell_type": "code",
   "execution_count": 59,
   "metadata": {},
   "outputs": [
    {
     "data": {
      "text/plain": [
       "48.92857142857143"
      ]
     },
     "execution_count": 59,
     "metadata": {},
     "output_type": "execute_result"
    }
   ],
   "source": [
    "123 / 2 * 5 / 7 + 5"
   ]
  },
  {
   "cell_type": "markdown",
   "metadata": {},
   "source": [
    "## Stringhe\n",
    "Le stringhe sono sequenze di caratteri. Python sa che sono stringhe perche' iniziano e finiscono sempre o con un single quote (') o con un double quote (\"). Qui sotto e' definita una stringa."
   ]
  },
  {
   "cell_type": "code",
   "execution_count": 3,
   "metadata": {},
   "outputs": [
    {
     "data": {
      "text/plain": [
       "'Ciao! Sono una stringa'"
      ]
     },
     "execution_count": 3,
     "metadata": {},
     "output_type": "execute_result"
    }
   ],
   "source": [
    "\"Ciao! Sono una stringa\""
   ]
  },
  {
   "cell_type": "markdown",
   "metadata": {},
   "source": [
    "Alcune operazioni che si possono eseguire sulle stringhe:\n",
    "* concatenazione (\"una_stringa\" + \"un_altra_stringa\")"
   ]
  },
  {
   "cell_type": "code",
   "execution_count": 9,
   "metadata": {},
   "outputs": [
    {
     "data": {
      "text/plain": [
       "'Ciao! Sono una stringa'"
      ]
     },
     "execution_count": 9,
     "metadata": {},
     "output_type": "execute_result"
    }
   ],
   "source": [
    "\"Ciao!\" + \" Sono una stringa\""
   ]
  },
  {
   "cell_type": "markdown",
   "metadata": {},
   "source": [
    "* ripetizione della stessa stringa (\"stringa\" * numero_di_ripetizioni)"
   ]
  },
  {
   "cell_type": "code",
   "execution_count": null,
   "metadata": {},
   "outputs": [],
   "source": [
    "\"Hello\" * 7"
   ]
  },
  {
   "cell_type": "markdown",
   "metadata": {},
   "source": [
    "* trasformare una stringa in maiuscolo (\"stringa\".upper()) o in minuscolo (\"stringa\".lower())"
   ]
  },
  {
   "cell_type": "code",
   "execution_count": 11,
   "metadata": {},
   "outputs": [
    {
     "data": {
      "text/plain": [
       "\"UN PO' MAIUSCOLO UN PO' MINUSCOLO\""
      ]
     },
     "execution_count": 11,
     "metadata": {},
     "output_type": "execute_result"
    }
   ],
   "source": [
    "\"Un po' MAIUSCOLO un PO' miNuSColo\".upper()"
   ]
  },
  {
   "cell_type": "markdown",
   "metadata": {},
   "source": [
    "* sapere quanto e' lunga una stringa (len(\"stringa\"))"
   ]
  },
  {
   "cell_type": "code",
   "execution_count": 12,
   "metadata": {},
   "outputs": [
    {
     "data": {
      "text/plain": [
       "33"
      ]
     },
     "execution_count": 12,
     "metadata": {},
     "output_type": "execute_result"
    }
   ],
   "source": [
    "len(\"supercalifragilistichespiralidoso\")"
   ]
  },
  {
   "cell_type": "markdown",
   "metadata": {},
   "source": [
    "* sostituire un pezzo di stringa con un altro (\"stringa\".replace(\"da_sostituire\", \"nuova_stringa\"))"
   ]
  },
  {
   "cell_type": "code",
   "execution_count": 52,
   "metadata": {},
   "outputs": [
    {
     "data": {
      "text/plain": [
       "'stiamo imparando Python'"
      ]
     },
     "execution_count": 52,
     "metadata": {},
     "output_type": "execute_result"
    }
   ],
   "source": [
    "\"sto imparando Python\".replace(\"sto\", \"stiamo\")"
   ]
  },
  {
   "cell_type": "markdown",
   "metadata": {},
   "source": [
    "## Variabili\n",
    "Supponete di dover scrivere una stringa con il vostro nome ripetuto:\n"
   ]
  },
  {
   "cell_type": "code",
   "execution_count": 19,
   "metadata": {},
   "outputs": [
    {
     "data": {
      "text/plain": [
       "'pamela'"
      ]
     },
     "execution_count": 19,
     "metadata": {},
     "output_type": "execute_result"
    }
   ],
   "source": [
    "\"Pamela ha dormito, Pamela ha lavorato, Pamela ha letto, Pamela ha mangiato, Pamela ha scritto tanto Python.\""
   ]
  },
  {
   "cell_type": "markdown",
   "metadata": {},
   "source": [
    "Pero' voi non vi chiamate Pamela! Se dovessimo cambiare nome, dovremmo cambiarlo in 6 posti diversi. Questo e' un esempio banale, ma in programmi complessi dover cambiare a mano tanti valori e' difficile da gestire.\n",
    "Ci vengono in aiuto le variabili. Le variabili sono dei contenitori per numeri, stringhe (o oggetti come vedremo tra poco), che memorizzano un valore per poterlo utilizzare in un secondo momento. Le variabili vengono utilizzate per memorizzare dati e per rendere il codice piu' leggibile.\n",
    "Per dichiarare una variabile si usa: nome_variabile = intero o stringa o oggetto"
   ]
  },
  {
   "cell_type": "code",
   "execution_count": null,
   "metadata": {},
   "outputs": [],
   "source": [
    "un_numero = 7"
   ]
  },
  {
   "cell_type": "code",
   "execution_count": null,
   "metadata": {},
   "outputs": [],
   "source": [
    "una_stringa = \"Una stringa\""
   ]
  },
  {
   "cell_type": "markdown",
   "metadata": {},
   "source": [
    "Per richiamare la variabile in un secondo momento, basta utilizzarne il nome. Con una variabile, il nostro esempio di prima diventa:"
   ]
  },
  {
   "cell_type": "code",
   "execution_count": 60,
   "metadata": {},
   "outputs": [
    {
     "data": {
      "text/plain": [
       "'Andrea ha dormito, Andrea ha lavorato, Andrea ha letto, Andrea ha mangiato, Andrea ha scritto tanto Python.'"
      ]
     },
     "execution_count": 60,
     "metadata": {},
     "output_type": "execute_result"
    }
   ],
   "source": [
    "nome = \"Pamela\"\n",
    "nome + \" ha dormito, \" + nome + \" ha lavorato, \" + nome + \" ha letto, \" + nome + \" ha mangiato, \" + nome + \" ha scritto tanto Python.\""
   ]
  },
  {
   "cell_type": "markdown",
   "metadata": {},
   "source": [
    "Con le variabili si possono utilizzare tutte le operazioni che abbiamo visto nella sezione precedente:"
   ]
  },
  {
   "cell_type": "code",
   "execution_count": 21,
   "metadata": {},
   "outputs": [
    {
     "data": {
      "text/plain": [
       "42"
      ]
     },
     "execution_count": 21,
     "metadata": {},
     "output_type": "execute_result"
    }
   ],
   "source": [
    "x = 7\n",
    "y = 6\n",
    "x * y"
   ]
  },
  {
   "cell_type": "code",
   "execution_count": 22,
   "metadata": {},
   "outputs": [
    {
     "data": {
      "text/plain": [
       "'UNA STRINGA IN MINUSCOLO'"
      ]
     },
     "execution_count": 22,
     "metadata": {},
     "output_type": "execute_result"
    }
   ],
   "source": [
    "stringa_in_minuscolo = \"una stringa in minuscolo\"\n",
    "stringa_in_maiuscolo = stringa_in_minuscolo.upper()\n",
    "stringa_in_maiuscolo"
   ]
  },
  {
   "cell_type": "markdown",
   "metadata": {},
   "source": [
    "## Print\n",
    "Tutto quello che abbiamo appena fatto scrive come output il risultato dell'ultima operazione che abbiamo fatto. E' possibile pero' far scrivere a Python una riga che dia una descrizione piu' accurata utilizzando il comando print:"
   ]
  },
  {
   "cell_type": "code",
   "execution_count": null,
   "metadata": {},
   "outputs": [],
   "source": [
    "print(\"Un messaggio che spiega cosa stiamo facendo\")"
   ]
  },
  {
   "cell_type": "markdown",
   "metadata": {},
   "source": [
    "print ci permette di combinare variabili numeriche e non, di aggiungere queste descrizioni ovunque e di non avere l'output solo dell'ultimo comando che abbiamo lanciato. La f davanti alla stringa negli esempi che seguono indica a Python che deve sostituire la variabile tra graffe con il suo valore."
   ]
  },
  {
   "cell_type": "code",
   "execution_count": 62,
   "metadata": {
    "scrolled": true
   },
   "outputs": [
    {
     "name": "stdout",
     "output_type": "stream",
     "text": [
      "Moltiplicando 7 * 6 ottengo 42\n",
      "Stiamo imparando Python\n"
     ]
    }
   ],
   "source": [
    "x = 7\n",
    "y = 6\n",
    "print(f\"Moltiplicando {x} * {y} ottengo {x * y}\")\n",
    "linguaggio = \"Python\"\n",
    "print(f\"Stiamo imparando {linguaggio}\")"
   ]
  },
  {
   "cell_type": "markdown",
   "metadata": {},
   "source": [
    "## Liste\n",
    "Oltre ai tipi che abbiamo visto sopra, Python definisce anche degli oggetti. Partiamo dalle liste. Le liste sono contenitori per altri oggetti. Qui sotto stiamo dichiarando una lista con due numeri interi e due stringhe."
   ]
  },
  {
   "cell_type": "code",
   "execution_count": 63,
   "metadata": {},
   "outputs": [
    {
     "data": {
      "text/plain": [
       "[1, 2, 'tre', 'quattro']"
      ]
     },
     "execution_count": 63,
     "metadata": {},
     "output_type": "execute_result"
    }
   ],
   "source": [
    "[1, 2, \"tre\", \"quattro\"]"
   ]
  },
  {
   "cell_type": "markdown",
   "metadata": {},
   "source": [
    "Con le liste possiamo fare diverse cose:\n",
    "* calcolare il numero di elementi nella lista: len(lista)\n",
    "* ordinare gli elementi della lista: lista.sort()\n",
    "* aggiungere elementi alla lista: lista.append(nuovo_elemento)\n",
    "* concatenare piu' liste: lista1 + lista2\n",
    "* accedere ad uno specifico elemento della lista: lista(numero_elemento_nella_lista - 1)"
   ]
  },
  {
   "cell_type": "code",
   "execution_count": 30,
   "metadata": {},
   "outputs": [
    {
     "data": {
      "text/plain": [
       "4"
      ]
     },
     "execution_count": 30,
     "metadata": {},
     "output_type": "execute_result"
    }
   ],
   "source": [
    "lista = [1, 2, 3, 4]\n",
    "len(lista)"
   ]
  },
  {
   "cell_type": "code",
   "execution_count": 32,
   "metadata": {},
   "outputs": [
    {
     "data": {
      "text/plain": [
       "[1, 3, 3, 6, 8]"
      ]
     },
     "execution_count": 32,
     "metadata": {},
     "output_type": "execute_result"
    }
   ],
   "source": [
    "lista = [6, 3, 8, 3, 1]\n",
    "lista.sort()\n",
    "lista"
   ]
  },
  {
   "cell_type": "code",
   "execution_count": 33,
   "metadata": {},
   "outputs": [
    {
     "data": {
      "text/plain": [
       "[3, 9, 5, 1, 9, 7]"
      ]
     },
     "execution_count": 33,
     "metadata": {},
     "output_type": "execute_result"
    }
   ],
   "source": [
    "lista = [3, 9, 5, 1, 9]\n",
    "lista.append(7)\n",
    "lista"
   ]
  },
  {
   "cell_type": "code",
   "execution_count": 26,
   "metadata": {},
   "outputs": [
    {
     "data": {
      "text/plain": [
       "[1, 2, 3, 4, 5, 6]"
      ]
     },
     "execution_count": 26,
     "metadata": {},
     "output_type": "execute_result"
    }
   ],
   "source": [
    "lista1 = [1, 2, 3]\n",
    "lista2 = [4, 5, 6]\n",
    "lista1 + lista2"
   ]
  },
  {
   "cell_type": "code",
   "execution_count": 24,
   "metadata": {},
   "outputs": [
    {
     "data": {
      "text/plain": [
       "3"
      ]
     },
     "execution_count": 24,
     "metadata": {},
     "output_type": "execute_result"
    }
   ],
   "source": [
    "lista = [1, 2, 3, 4, 5]\n",
    "lista[2]"
   ]
  },
  {
   "cell_type": "markdown",
   "metadata": {},
   "source": [
    "E' possibile modificare un elemento all'interno di una lista"
   ]
  },
  {
   "cell_type": "code",
   "execution_count": 53,
   "metadata": {},
   "outputs": [
    {
     "data": {
      "text/plain": [
       "[1, 2, 5, 4]"
      ]
     },
     "execution_count": 53,
     "metadata": {},
     "output_type": "execute_result"
    }
   ],
   "source": [
    "lista = [1, 2, 3, 4]\n",
    "lista[2] = 5\n",
    "lista"
   ]
  },
  {
   "cell_type": "markdown",
   "metadata": {},
   "source": [
    "## Dizionari\n",
    "I dizionari sono degli oggetti in cui gli elementi sono memorizzati come coppie chiave/valore: ad ogni chiave corrisponde il proprio valore.\n",
    "Per accedere agli elementi del dizionario non si usano indici come per le liste, ma si accede direttamente tramite il nome della chiave:"
   ]
  },
  {
   "cell_type": "code",
   "execution_count": 69,
   "metadata": {},
   "outputs": [
    {
     "name": "stdout",
     "output_type": "stream",
     "text": [
      "Per ottenere il valore della chiave \"nome\", basta utilizzare scheda[\"nome\"]: Pamela\n"
     ]
    }
   ],
   "source": [
    "scheda = {\n",
    "    \"nome\": \"Pamela\",\n",
    "    \"nazione\": \"Italia\",\n",
    "    \"linguaggi_di_programmazione\": [\"Python\", \"Scala\"],\n",
    "    \"numero_gatti\": 0\n",
    "}\n",
    "print(f'Per ottenere il valore della chiave \"nome\", basta utilizzare scheda[\"nome\"]: {scheda[\"nome\"]}')"
   ]
  },
  {
   "cell_type": "markdown",
   "metadata": {},
   "source": [
    "## Espressioni condizionali\n",
    "Le espressioni condizionali vengono utilizzate ogni volta che, in base al valore di una o piu' variabili, si devono effettuare operazioni differenti. La struttura e' del tipo:\n",
    "if condizione:\n",
    "  operazioni da fare solo se la condizione e' soddisfatta\n",
    "elif un'altra condizione:\n",
    "  operazioni da fare solo se l'altra condizione e' soddisfatta\n",
    "else:\n",
    "  operazioni da fare se nessuna delle condizioni definite sopra e' soddisfatta\n",
    "\n",
    "Le condizioni possono essere:\n",
    "* a > b\n",
    "* a < b\n",
    "* a == b (notare il doppio uguale per l'uguaglianza!)\n",
    "* a != b (diverso)\n",
    "* a >= b\n",
    "* a <= b\n",
    "* elemento in lista\n",
    "\n",
    "Ad esempio, il seguente codice stampa una scritta diversa in base alla lunghezza della variabile (provate a cambiare il nome della variabile e vedrete che cambiera' l'output):"
   ]
  },
  {
   "cell_type": "code",
   "execution_count": 47,
   "metadata": {},
   "outputs": [
    {
     "name": "stdout",
     "output_type": "stream",
     "text": [
      "Il nome e' lungo\n"
     ]
    }
   ],
   "source": [
    "nome = \"Hermione\"\n",
    "if len(nome) >= 8:\n",
    "    print(\"Il nome e' lungo\")\n",
    "else:\n",
    "    print(\"Il nome e' corto\")"
   ]
  },
  {
   "cell_type": "markdown",
   "metadata": {},
   "source": [
    "Questo codice invece stampa la presenza o meno di un elemento in una lista:"
   ]
  },
  {
   "cell_type": "code",
   "execution_count": 54,
   "metadata": {},
   "outputs": [
    {
     "name": "stdout",
     "output_type": "stream",
     "text": [
      "Elemento non in lista\n"
     ]
    }
   ],
   "source": [
    "elemento = 7\n",
    "lista = [2, 4, 6, 8, 10]\n",
    "if elemento in lista:\n",
    "    print('Elemento trovato!')\n",
    "else:\n",
    "    print('Elemento non trovato!')"
   ]
  },
  {
   "cell_type": "markdown",
   "metadata": {},
   "source": [
    "Esercizio: provate a scrivere un piccolo programma che prenda il minimo tra 3 numeri:"
   ]
  },
  {
   "cell_type": "code",
   "execution_count": null,
   "metadata": {},
   "outputs": [],
   "source": [
    "a = 6\n",
    "b = 4\n",
    "c = 24\n",
    "\n",
    "..."
   ]
  },
  {
   "cell_type": "markdown",
   "metadata": {},
   "source": [
    "Piu' condizioni possono essere unite con and e or, oppure negate con un not:\n",
    "* condizione1 and condizione2 indica che entrambe le condizioni devono essere soddisfatte\n",
    "* condizione1 or condizione2 indica che una sola delle condizioni deve essere soddisfatta\n",
    "* not condizione indica che la condizione non deve essere soddisfatta"
   ]
  },
  {
   "cell_type": "code",
   "execution_count": 70,
   "metadata": {},
   "outputs": [
    {
     "name": "stdout",
     "output_type": "stream",
     "text": [
      "Alessandro Magno e' lunghissimo\n",
      "Alessandro Magno e' corto o lunghissimo\n",
      "Alessandro Magno e' lungo\n"
     ]
    }
   ],
   "source": [
    "nome = \"Alessandro Magno\"\n",
    "if len(nome) >= 10:\n",
    "    print(f\"{nome} e' lunghissimo\")\n",
    "elif len(nome) >= 8 and len(nome) < 10:\n",
    "    print(f\"{nome} e' lungo\")\n",
    "else:\n",
    "    print(f\"{nome} e' corto\")\n",
    "    \n",
    "if len(nome) < 8 or len(nome) > 10:\n",
    "    print(f\"{nome} e' corto o lunghissimo\")\n",
    "else:\n",
    "    print(f\"{nome} e' lungo\")\n",
    "    \n",
    "if not len(nome) < 8:\n",
    "    print(f\"{nome} e' lungo\")\n",
    "else:\n",
    "    print(f\"{nome} e' corto\")"
   ]
  },
  {
   "cell_type": "markdown",
   "metadata": {},
   "source": [
    "Una nota sull'uguaglianza di stringhe. Due stringhe sono considerate uguali se hanno gli stessi caratteri. \"una stringa\" e' diversa da \"Una stringa\". Per controllare l'uguaglianza indipendentemente dalle lettere maiuscole o minuscole si possono applicare i metodi visti precedentemente .lower() o .upper(). Puoi modificare il codice qui sotto in modo che l'if consideri le due stringhe uguali?"
   ]
  },
  {
   "cell_type": "code",
   "execution_count": 75,
   "metadata": {},
   "outputs": [
    {
     "name": "stdout",
     "output_type": "stream",
     "text": [
      "Le due stringhe sono diverse\n"
     ]
    }
   ],
   "source": [
    "stringa1 = \"una stringa\"\n",
    "stringa2 = \"Una stringa\"\n",
    "\n",
    "if stringa1 != stringa2:\n",
    "    print(\"Le due stringhe sono diverse\")\n",
    "else:\n",
    "    print(\"Le due stringhe sono uguali\")"
   ]
  },
  {
   "cell_type": "markdown",
   "metadata": {},
   "source": [
    "## Cicli\n",
    "Vi ricordate le liste di poco fa? Cosa succederebbe se avessimo una lista e ne volessimo un'altra in cui ogni elemento viene moltiplicato per 2?"
   ]
  },
  {
   "cell_type": "code",
   "execution_count": 38,
   "metadata": {},
   "outputs": [
    {
     "data": {
      "text/plain": [
       "[2, 4, 6, 8]"
      ]
     },
     "execution_count": 38,
     "metadata": {},
     "output_type": "execute_result"
    }
   ],
   "source": [
    "[1, 2, 3, 4]\n",
    "moltiplicatore = 2\n",
    "[1 * moltiplicatore, 2  * moltiplicatore, 3 * moltiplicatore, 4 * moltiplicatore]"
   ]
  },
  {
   "cell_type": "markdown",
   "metadata": {},
   "source": [
    "Questa lista aveva solo 4 elementi. Ma se la lista avesse avuto 10, 100, 1000 elementi? Possiamo usare il ciclo for per operare su tutti gli elementi della lista senza ripeterci! "
   ]
  },
  {
   "cell_type": "code",
   "execution_count": 40,
   "metadata": {},
   "outputs": [
    {
     "data": {
      "text/plain": [
       "[0,\n",
       " 2,\n",
       " 4,\n",
       " 6,\n",
       " 8,\n",
       " 10,\n",
       " 12,\n",
       " 14,\n",
       " 16,\n",
       " 18,\n",
       " 20,\n",
       " 22,\n",
       " 24,\n",
       " 26,\n",
       " 28,\n",
       " 30,\n",
       " 32,\n",
       " 34,\n",
       " 36,\n",
       " 38,\n",
       " 40,\n",
       " 42,\n",
       " 44,\n",
       " 46,\n",
       " 48,\n",
       " 50,\n",
       " 52,\n",
       " 54,\n",
       " 56,\n",
       " 58,\n",
       " 60,\n",
       " 62,\n",
       " 64,\n",
       " 66,\n",
       " 68,\n",
       " 70,\n",
       " 72,\n",
       " 74,\n",
       " 76,\n",
       " 78,\n",
       " 80,\n",
       " 82,\n",
       " 84,\n",
       " 86,\n",
       " 88,\n",
       " 90,\n",
       " 92,\n",
       " 94,\n",
       " 96,\n",
       " 98]"
      ]
     },
     "execution_count": 40,
     "metadata": {},
     "output_type": "execute_result"
    }
   ],
   "source": [
    "l = range(0, 50) # Questa e' una scorciatoia per evitare di scrivere a mano tutti i numeri da 0 a 49!\n",
    "output = []\n",
    "for n in l:\n",
    "    output.append(n * 2)\n",
    "output"
   ]
  },
  {
   "cell_type": "markdown",
   "metadata": {},
   "source": [
    "Analogamente, si possono scrivere dei cicli anche sui dizionari:"
   ]
  },
  {
   "cell_type": "code",
   "execution_count": 48,
   "metadata": {},
   "outputs": [
    {
     "name": "stdout",
     "output_type": "stream",
     "text": [
      "nome: Pamela\n",
      "nazione: Italia\n",
      "show_preferito: Game of thrones\n",
      "universita: Politecnico di Milano\n"
     ]
    }
   ],
   "source": [
    "scheda = {\n",
    "    \"nome\": \"Pamela\",\n",
    "    \"nazione\": \"Italia\",\n",
    "    \"show_preferito\": \"Game of thrones\",\n",
    "    \"universita\": \"Politecnico di Milano\"\n",
    "}\n",
    "for chiave, valore in scheda.items():\n",
    "    print(f\"{chiave}: {valore}\")"
   ]
  },
  {
   "cell_type": "markdown",
   "metadata": {},
   "source": [
    "In caso di liste, il ciclo for puo' essere scritto in modo piu' compatto utilizzando quelle che vengono chiamate for comprehension:"
   ]
  },
  {
   "cell_type": "code",
   "execution_count": null,
   "metadata": {},
   "outputs": [],
   "source": [
    "[i * 2 for i in range(0, 50)]"
   ]
  },
  {
   "cell_type": "markdown",
   "metadata": {},
   "source": [
    "Il codice nella linea precedente e' una for comprehension, ed ha lo stesso significato del ciclo che abbiamo scritto poco fa per moltiplicare per 2 tutti i numeri da 1 a 49. E' possibile anche mettere piu' cicli for uno dentro l'altro, oppure utilizzare delle condizioni per includere solo valori che soddisfano una certa condizione. Cosa fanno le seguenti linee di codice?"
   ]
  },
  {
   "cell_type": "code",
   "execution_count": 73,
   "metadata": {},
   "outputs": [
    {
     "data": {
      "text/plain": [
       "['ae',\n",
       " 'af',\n",
       " 'ag',\n",
       " 'ah',\n",
       " 'be',\n",
       " 'bf',\n",
       " 'bg',\n",
       " 'bh',\n",
       " 'ce',\n",
       " 'cf',\n",
       " 'cg',\n",
       " 'ch',\n",
       " 'de',\n",
       " 'df',\n",
       " 'dg',\n",
       " 'dh']"
      ]
     },
     "execution_count": 73,
     "metadata": {},
     "output_type": "execute_result"
    }
   ],
   "source": [
    "[f'{i}{j}' for i in ['a', 'b', 'c', 'd'] for j in ['e', 'f', 'g', 'h']]"
   ]
  },
  {
   "cell_type": "code",
   "execution_count": 74,
   "metadata": {},
   "outputs": [
    {
     "data": {
      "text/plain": [
       "[0, 2, 4, 6, 8]"
      ]
     },
     "execution_count": 74,
     "metadata": {},
     "output_type": "execute_result"
    }
   ],
   "source": [
    "[i for i in range(0, 10) if i % 2 == 0]"
   ]
  },
  {
   "cell_type": "markdown",
   "metadata": {},
   "source": [
    "## Funzioni\n",
    "Le funzioni vengono utilizzate per raggruppare del codice in modo logico, cosi' da evitare il copia/incolla e poterlo riutilizzare facilmente."
   ]
  },
  {
   "cell_type": "code",
   "execution_count": 57,
   "metadata": {},
   "outputs": [
    {
     "name": "stdout",
     "output_type": "stream",
     "text": [
      "Ciao PYTHON\n",
      "Ciao HERRY POTTER\n",
      "Ciao DAENERYS TARGARYAN\n"
     ]
    }
   ],
   "source": [
    "def saluta(nome):\n",
    "    nome_in_maiuscolo = nome.upper()\n",
    "    aggiunta_saluto = f\"Ciao {nome_in_maiuscolo}\"\n",
    "    return aggiunta_saluto\n",
    "\n",
    "print(saluta(\"Python\"))\n",
    "print(saluta(\"Harry Potter\"))\n",
    "print(saluta(\"Daenerys Targaryan\"))\n",
    "    "
   ]
  },
  {
   "cell_type": "markdown",
   "metadata": {},
   "source": [
    "Le funzioni a loro volta possono essere raggruppate in piu' moduli. Per poter utilizzare funzioni o oggetti che non fanno parte del programma che stiamo scrivendo, dobbiamo importare il modulo che le racchiude, e a quel punto le funzioni e gli oggetti sono disponibili per l'utilizzo.\n",
    "Esistono delle librerie standard di Python, ad esempio datetime. Importando datetime abbiamo a disposizione tutta una serie di funzioni per la manipolazione di date: di seguito andiamo ad importare l'oggetto date dalla libreria datetime. Una volta importata, possiamo chiamare metodi dell'oggetto date."
   ]
  },
  {
   "cell_type": "code",
   "execution_count": 78,
   "metadata": {},
   "outputs": [
    {
     "data": {
      "text/plain": [
       "datetime.date(2019, 6, 13)"
      ]
     },
     "execution_count": 78,
     "metadata": {},
     "output_type": "execute_result"
    }
   ],
   "source": [
    "from datetime import date\n",
    "\n",
    "date.today()"
   ]
  },
  {
   "cell_type": "markdown",
   "metadata": {},
   "source": [
    "Un'altra libreria standard utile e' math. Come dal nome, math espone funzioni matematiche, oltre ai concetti di infinito e di NaN (not a number).\n",
    "\"import math\" significa che stiamo importando tutta la libreria math, e che potremo accedere a tutte le sue funzioni tramite la notazione \"math.nome_funzione()\""
   ]
  },
  {
   "cell_type": "code",
   "execution_count": 34,
   "metadata": {},
   "outputs": [
    {
     "ename": "ZeroDivisionError",
     "evalue": "division by zero",
     "output_type": "error",
     "traceback": [
      "\u001b[0;31m---------------------------------------------------------------------------\u001b[0m",
      "\u001b[0;31mZeroDivisionError\u001b[0m                         Traceback (most recent call last)",
      "\u001b[0;32m<ipython-input-34-b0953b58a2d7>\u001b[0m in \u001b[0;36m<module>\u001b[0;34m\u001b[0m\n\u001b[1;32m      5\u001b[0m \u001b[0mc\u001b[0m \u001b[0;34m=\u001b[0m \u001b[0mmath\u001b[0m\u001b[0;34m.\u001b[0m\u001b[0mnan\u001b[0m\u001b[0;34m\u001b[0m\u001b[0;34m\u001b[0m\u001b[0m\n\u001b[1;32m      6\u001b[0m \u001b[0md\u001b[0m \u001b[0;34m=\u001b[0m \u001b[0mmath\u001b[0m\u001b[0;34m.\u001b[0m\u001b[0mpow\u001b[0m\u001b[0;34m(\u001b[0m\u001b[0;36m2\u001b[0m\u001b[0;34m,\u001b[0m \u001b[0;36m10\u001b[0m\u001b[0;34m)\u001b[0m\u001b[0;34m\u001b[0m\u001b[0;34m\u001b[0m\u001b[0m\n\u001b[0;32m----> 7\u001b[0;31m \u001b[0me\u001b[0m \u001b[0;34m=\u001b[0m \u001b[0;36m7\u001b[0m \u001b[0;34m/\u001b[0m \u001b[0;36m0\u001b[0m\u001b[0;34m\u001b[0m\u001b[0;34m\u001b[0m\u001b[0m\n\u001b[0m\u001b[1;32m      8\u001b[0m \u001b[0mprint\u001b[0m\u001b[0;34m(\u001b[0m\u001b[0;34mf\"a: {a}, b: {b}, c: {c}, d: {d}, e: {e}\"\u001b[0m\u001b[0;34m)\u001b[0m\u001b[0;34m\u001b[0m\u001b[0;34m\u001b[0m\u001b[0m\n",
      "\u001b[0;31mZeroDivisionError\u001b[0m: division by zero"
     ]
    }
   ],
   "source": [
    "import math\n",
    "\n",
    "a = - math.inf\n",
    "b = math.inf\n",
    "c = math.nan\n",
    "d = math.pow(2, 10)\n",
    "print(f\"a: {a}, b: {b}, c: {c}, d: {d}, e: {e}\")"
   ]
  },
  {
   "cell_type": "markdown",
   "metadata": {},
   "source": [
    "## NumPy\n",
    "NumPy e' la libreria core per effettuare calcolo scientifico in Python. Da' accesso ad array multidimensionali performanti e tools per lavorare con questi array.\n",
    "Le linee che seguono importano numpy con una sintassi leggermente diversa da quella appena vista.\n",
    "\"import numpy as np\" importa tutta NumPy dandole pero' un alias, in modo da poter chiamare tutte le funzioni come \"np.array\", \"np.zeroes\", etc. "
   ]
  },
  {
   "cell_type": "code",
   "execution_count": 94,
   "metadata": {},
   "outputs": [
    {
     "name": "stdout",
     "output_type": "stream",
     "text": [
      "a = [1 2 3]\n",
      "b = [[1.5 2.  3. ]\n",
      " [4.  5.  6. ]]\n",
      "c = [[0.67006321 0.66310617 0.37817178]\n",
      " [0.69600373 0.51119736 0.5156713 ]]\n",
      "b + c = [[2.17006321 2.66310617 3.37817178]\n",
      " [4.69600373 5.51119736 6.5156713 ]]\n",
      "b trasposto = [[1.5 4. ]\n",
      " [2.  5. ]\n",
      " [3.  6. ]]\n",
      "Seconda colonna di b = [2. 5.]\n",
      "Pimi due elementi della prima riga di b = [1.5 2. ]\n",
      "Elementi divisibili per due di b = [2. 4. 6.]\n"
     ]
    }
   ],
   "source": [
    "import numpy as np\n",
    "\n",
    "a = np.array([1, 2, 3])\n",
    "print(f\"a = {a}\")\n",
    "b = b = np.array([(1.5,2,3), (4,5,6)])\n",
    "print(f\"b = {b}\")\n",
    "c = np.random.random((2, 3))\n",
    "print(f\"c = {c}\")\n",
    "print(f\"b + c = {b + c}\")\n",
    "print(f\"b trasposto = {b.transpose()}\")\n",
    "print(f\"Seconda colonna di b = {b[:, 1]}\")\n",
    "print(f\"Pimi due elementi della prima riga di b = {b[0, 0:2]}\")\n",
    "print(f\"Elementi divisibili per due di b = {b[b % 2 == 0]}\")"
   ]
  },
  {
   "cell_type": "markdown",
   "metadata": {},
   "source": [
    "## Pandas\n",
    "Pandas e' una libreria basata su NumPy e definisce delle strutture dati e tools di data analisi per Python. Uno degli oggetti esposti da Pandas sono le serie, ovvero array monodimensionali in cui gli elementi hanno una label:"
   ]
  },
  {
   "cell_type": "code",
   "execution_count": null,
   "metadata": {},
   "outputs": [],
   "source": [
    "s = pd.Series([3, -5, 7, 4], index=['a', 'b', 'c', 'd'])"
   ]
  },
  {
   "cell_type": "markdown",
   "metadata": {},
   "source": [
    "Sulle serie possono essere effettuate le operazioni standard (somme, sottrazioni, etc.). In caso ci siano dei dati mancanti e l'operazione non possa essere effettuata, la label corrispondente avra' il valore Nan:"
   ]
  },
  {
   "cell_type": "code",
   "execution_count": 36,
   "metadata": {},
   "outputs": [
    {
     "data": {
      "text/plain": [
       "a    10.0\n",
       "b     NaN\n",
       "c     5.0\n",
       "d     7.0\n",
       "dtype: float64"
      ]
     },
     "execution_count": 36,
     "metadata": {},
     "output_type": "execute_result"
    }
   ],
   "source": [
    "s = pd.Series([3, -5, 7, 4], index=['a', 'b', 'c', 'd'])\n",
    "s1 = pd.Series([7, -2, 3], index=['a', 'c', 'd'])\n",
    "s + s1"
   ]
  },
  {
   "cell_type": "markdown",
   "metadata": {},
   "source": [
    "Con Pandas andremo anche ad utilizzare dati strutturati in un dataframe, che possiamo considerare come una tabella. Qui vedete un esempio di come si definisce un data frame e di alcune operazioni che possiamo farci su:"
   ]
  },
  {
   "cell_type": "code",
   "execution_count": 10,
   "metadata": {},
   "outputs": [
    {
     "name": "stdout",
     "output_type": "stream",
     "text": [
      "   Country    Capital  Population\n",
      "0  Belgium   Brussels    11190846\n",
      "1    India  New Delhi  1303171035\n",
      "2   Brazil   Brasília   207847528\n",
      "Capitale e polazione del Belgio:     Capital  Population\n",
      "0  Brussels    11190846\n",
      "Capitali con popolazione piu' grande di 120 milioni:   Country    Capital  Population\n",
      "1   India  New Delhi  1303171035\n"
     ]
    }
   ],
   "source": [
    "import pandas as pd\n",
    "data = {\n",
    "    'Country': ['Belgium', 'India', 'Brazil'],\n",
    "    'Capital': ['Brussels', 'New Delhi', 'Brasília'],\n",
    "    'Population': [11190846, 1303171035, 207847528]}\n",
    "df = pd.DataFrame(data, columns=['Country', 'Capital', 'Population'])\n",
    "print(df)\n",
    "print(f'Capitale e polazione del Belgio: {df.loc[[0], [\"Capital\", \"Population\"]]}')\n",
    "print(f'Capitali con popolazione piu\\' grande di 120 milioni: {df[df[\"Population\"]>1200000000]}')"
   ]
  },
  {
   "cell_type": "markdown",
   "metadata": {},
   "source": [
    "Adesso andiamo a lavorare con dei dati veri! Le linee di codice che seguono leggono da un file i 500 Le linee di codice seguenti vanno a leggere un dataframe da un file dove sono contenuti i Rolling Stone's 500 Greatest Albums of All Time. Grazie a Pandas possiamo facilmente estrarre gli album dei Beatles ordinati per anno di uscita decrescente. Oppure raggruppare per artista e anno e trovare chi ha prodotto piu' dischi in un anno."
   ]
  },
  {
   "cell_type": "code",
   "execution_count": 33,
   "metadata": {},
   "outputs": [
    {
     "name": "stdout",
     "output_type": "stream",
     "text": [
      "Gli album dei Beatles ordinati per anno decrescente\n",
      "     Year                                  Album\n",
      "391  1970                              Let It Be\n",
      "13   1969                             Abbey Road\n",
      "9    1968        The Beatles (\"The White Album\")\n",
      "0    1967  Sgt. Pepper's Lonely Hearts Club Band\n",
      "2    1966                               Revolver\n",
      "330  1965                                  Help!\n",
      "4    1965                            Rubber Soul\n",
      "306  1964                     A Hard Day's Night\n",
      "52   1964                      Meet The Beatles!\n",
      "38   1963                       Please Please Me\n",
      "\n"
     ]
    },
    {
     "name": "stderr",
     "output_type": "stream",
     "text": [
      "/home/mela/anaconda3/lib/python3.7/site-packages/ipykernel_launcher.py:5: UserWarning: Boolean Series key will be reindexed to match DataFrame index.\n",
      "  \"\"\"\n"
     ]
    },
    {
     "data": {
      "text/html": [
       "<div>\n",
       "<style scoped>\n",
       "    .dataframe tbody tr th:only-of-type {\n",
       "        vertical-align: middle;\n",
       "    }\n",
       "\n",
       "    .dataframe tbody tr th {\n",
       "        vertical-align: top;\n",
       "    }\n",
       "\n",
       "    .dataframe thead th {\n",
       "        text-align: right;\n",
       "    }\n",
       "</style>\n",
       "<table border=\"1\" class=\"dataframe\">\n",
       "  <thead>\n",
       "    <tr style=\"text-align: right;\">\n",
       "      <th></th>\n",
       "      <th>Artist</th>\n",
       "      <th>Number</th>\n",
       "    </tr>\n",
       "  </thead>\n",
       "  <tbody>\n",
       "    <tr>\n",
       "      <th>230</th>\n",
       "      <td>The Beatles</td>\n",
       "      <td>10</td>\n",
       "    </tr>\n",
       "    <tr>\n",
       "      <th>24</th>\n",
       "      <td>Bob Dylan</td>\n",
       "      <td>10</td>\n",
       "    </tr>\n",
       "    <tr>\n",
       "      <th>255</th>\n",
       "      <td>The Rolling Stones</td>\n",
       "      <td>10</td>\n",
       "    </tr>\n",
       "    <tr>\n",
       "      <th>31</th>\n",
       "      <td>Bruce Springsteen</td>\n",
       "      <td>8</td>\n",
       "    </tr>\n",
       "    <tr>\n",
       "      <th>266</th>\n",
       "      <td>The Who</td>\n",
       "      <td>7</td>\n",
       "    </tr>\n",
       "    <tr>\n",
       "      <th>194</th>\n",
       "      <td>Radiohead</td>\n",
       "      <td>5</td>\n",
       "    </tr>\n",
       "    <tr>\n",
       "      <th>274</th>\n",
       "      <td>U2</td>\n",
       "      <td>5</td>\n",
       "    </tr>\n",
       "    <tr>\n",
       "      <th>124</th>\n",
       "      <td>Led Zeppelin</td>\n",
       "      <td>5</td>\n",
       "    </tr>\n",
       "    <tr>\n",
       "      <th>68</th>\n",
       "      <td>Elton John</td>\n",
       "      <td>5</td>\n",
       "    </tr>\n",
       "    <tr>\n",
       "      <th>51</th>\n",
       "      <td>David Bowie</td>\n",
       "      <td>5</td>\n",
       "    </tr>\n",
       "  </tbody>\n",
       "</table>\n",
       "</div>"
      ],
      "text/plain": [
       "                 Artist  Number\n",
       "230         The Beatles      10\n",
       "24            Bob Dylan      10\n",
       "255  The Rolling Stones      10\n",
       "31    Bruce Springsteen       8\n",
       "266             The Who       7\n",
       "194           Radiohead       5\n",
       "274                  U2       5\n",
       "124        Led Zeppelin       5\n",
       "68           Elton John       5\n",
       "51          David Bowie       5"
      ]
     },
     "execution_count": 33,
     "metadata": {},
     "output_type": "execute_result"
    }
   ],
   "source": [
    "import pandas as pd\n",
    "\n",
    "music = pd.read_csv('albumlist.csv')\n",
    "print('Gli album dei Beatles ordinati per anno decrescente')\n",
    "print(music.sort_values(\"Year\", axis=0, ascending=False)[music['Artist'].isin(['The Beatles'])][['Year', 'Album']])\n",
    "print('')\n",
    "music.groupby(['Artist'], as_index=False).count().sort_values(\"Number\", ascending=False).head(10)[:][['Artist', 'Number']]"
   ]
  }
 ],
 "metadata": {
  "kernelspec": {
   "display_name": "Python 3",
   "language": "python",
   "name": "python3"
  },
  "language_info": {
   "codemirror_mode": {
    "name": "ipython",
    "version": 3
   },
   "file_extension": ".py",
   "mimetype": "text/x-python",
   "name": "python",
   "nbconvert_exporter": "python",
   "pygments_lexer": "ipython3",
   "version": "3.7.3"
  }
 },
 "nbformat": 4,
 "nbformat_minor": 2
}
